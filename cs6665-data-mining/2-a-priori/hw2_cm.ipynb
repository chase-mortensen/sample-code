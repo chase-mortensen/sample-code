{
 "cells": [
  {
   "cell_type": "code",
   "execution_count": null,
   "metadata": {},
   "outputs": [],
   "source": ""
  },
  {
   "cell_type": "code",
   "execution_count": 27,
   "metadata": {},
   "outputs": [
    {
     "data": {},
     "execution_count": 27,
     "metadata": {},
     "output_type": "execute_result"
    }
   ],
   "source": "data = open('browsing.txt', 'r')\n\nlist = []\n\nfor line in data.readlines():\n    list.append(line.split())\n\nlist[0:4]"
  },
  {
   "cell_type": "markdown",
   "metadata": {},
   "source": "## Find Frequent Items"
  },
  {
   "cell_type": "code",
   "execution_count": 28,
   "metadata": {},
   "outputs": [
    {
     "data": {},
     "execution_count": 28,
     "metadata": {},
     "output_type": "execute_result"
    }
   ],
   "source": "freqItems = {}\n\n# Get item counts\n\nfor line in list:\n    for item in line:\n        if item in freqItems:\n            freqItems[item] = freqItems[item] + 1\n        else:\n            freqItems[item] = 1\n            \nfreqItems"
  },
  {
   "cell_type": "code",
   "execution_count": 29,
   "metadata": {},
   "outputs": [
    {
     "data": {},
     "execution_count": 29,
     "metadata": {},
     "output_type": "execute_result"
    }
   ],
   "source": "# Get list of infrequent items\n\ninfrequent = []\n\nfor item in freqItems:\n    if freqItems[item] < 100:\n        infrequent.append(item)\n        \ninfrequent"
  },
  {
   "cell_type": "code",
   "execution_count": 30,
   "metadata": {},
   "outputs": [
    {
     "data": {},
     "execution_count": 30,
     "metadata": {},
     "output_type": "execute_result"
    }
   ],
   "source": "# Remove infrequent items from freqItems\n\nfor item in infrequent:\n    del freqItems[item]\n    \nfreqItems"
  },
  {
   "cell_type": "code",
   "execution_count": 31,
   "metadata": {},
   "outputs": [
    {
     "data": {},
     "execution_count": 31,
     "metadata": {},
     "output_type": "execute_result"
    }
   ],
   "source": "len(freqItems)"
  },
  {
   "cell_type": "markdown",
   "metadata": {},
   "source": "# Get Frequent Pairs"
  },
  {
   "cell_type": "code",
   "execution_count": 32,
   "metadata": {},
   "outputs": [
    {
     "data": {},
     "execution_count": 32,
     "metadata": {},
     "output_type": "execute_result"
    }
   ],
   "source": "freqPairs = {}\n\nfor row in list:\n    for i in range(len(row)-1):\n        if row[i] in freqItems:\n            for j in range (i+1, len(row)):\n                if row[j] in freqItems:\n                    if (row[i], row[j]) in freqPairs:\n                        freqPairs[(row[i], row[j])] = freqPairs[(row[i], row[j])] + 1\n                    else:\n                        freqPairs[(row[i], row[j])] = 1\nfreqPairs"
  },
  {
   "cell_type": "markdown",
   "metadata": {},
   "source": "# Combine Duplicate Pairs"
  },
  {
   "cell_type": "code",
   "execution_count": 33,
   "metadata": {},
   "outputs": [
    {
     "data": {},
     "execution_count": 33,
     "metadata": {},
     "output_type": "execute_result"
    }
   ],
   "source": "for pair in freqPairs:\n    if pair[0] < pair[1]:\n        if (pair[1], pair[0]) in freqPairs:\n            freqPairs[pair] += freqPairs[(pair[1],pair[0])]\n            freqPairs[(pair[1],pair[0])] = 0\n            \nfreqPairs     "
  },
  {
   "cell_type": "code",
   "execution_count": 34,
   "metadata": {},
   "outputs": [
    {
     "data": {},
     "execution_count": 34,
     "metadata": {},
     "output_type": "execute_result"
    }
   ],
   "source": "# https://stackoverflow.com/questions/29218750/what-is-the-best-way-to-remove-a-dictionary-item-by-value-in-python/29218792\n\nfreqPairs = {key:val for key, val in freqPairs.items() if val >= 100}\nfreqPairs"
  },
  {
   "cell_type": "code",
   "execution_count": 35,
   "metadata": {},
   "outputs": [
    {
     "data": {},
     "execution_count": 35,
     "metadata": {},
     "output_type": "execute_result"
    }
   ],
   "source": "len(freqPairs)"
  },
  {
   "cell_type": "code",
   "execution_count": 48,
   "metadata": {},
   "outputs": [
    {
     "data": {},
     "execution_count": 48,
     "metadata": {},
     "output_type": "execute_result"
    }
   ],
   "source": "freqTriples = {}\n\nfor row in list:\n    for i in range(len(row)-2):\n        if row[i] in freqItems:\n            for j in range (i+1, len(row)-1):\n                if row[j] in freqItems:\n                    if (row[i], row[j]) in freqPairs or (row[j], row[i]) in freqPairs:\n                        for k in range(j+1, len(row)):\n                            if row[k] in freqItems:\n                                if (row[k], row[i]) in freqPairs or (row[i], row[k]) in freqPairs:\n                                    if (row[k], row[j]) in freqPairs or (row[j], row[k]) in freqPairs:\n                                        if row[i] < row[j] and row[j] < row[k]:\n                                            tmp = (row[i], row[j], row[k])\n                                        elif row[i] < row[k] and row[k] < row[j]:\n                                            tmp = (row[i], row[k], row[j])\n                                        elif row[j] < row[i] and row[i] < row[k]:\n                                            tmp = (row[j], row[i], row[k])\n                                        elif row[j] < row[k] and row[k] < row[i]:\n                                            tmp = (row[j], row[k], row[i])\n                                        elif row[k] < row[i] and row[i] < row[j]:\n                                            tmp = (row[k], row[i], row[j])\n                                        elif row[k] < row[j] and row[j] < row[i]:\n                                            tmp = (row[k], row[j], row[i])\n                                            \n                                        if tmp in freqTriples:\n                                            freqTriples[tmp] = freqTriples[tmp] + 1\n                                        else:\n                                            freqTriples[tmp] = 1\n\nfreqTriples\n                                        \n# for row in list:\n#     for i in range(len(row)-1):\n#         if row[i] in freqItems:\n#             for j in range (i+1, len(row)):\n#                 if row[j] in freqItems:\n#                     if (row[i], row[j]) in freqPairs:\n#                         freqPairs[(row[i], row[j])] = freqPairs[(row[i], row[j])] + 1\n#                     else:\n#                         freqPairs[(row[i], row[j])] = 1\n# freqPairs"
  },
  {
   "cell_type": "code",
   "execution_count": 49,
   "metadata": {},
   "outputs": [
    {
     "data": {},
     "execution_count": 49,
     "metadata": {},
     "output_type": "execute_result"
    }
   ],
   "source": "len(freqTriples)"
  },
  {
   "cell_type": "code",
   "execution_count": 50,
   "metadata": {},
   "outputs": [
    {
     "data": {},
     "execution_count": 50,
     "metadata": {},
     "output_type": "execute_result"
    }
   ],
   "source": "# https://stackoverflow.com/questions/29218750/what-is-the-best-way-to-remove-a-dictionary-item-by-value-in-python/29218792\n\nfreqTriples = {key:val for key, val in freqTriples.items() if val >= 100}\nfreqTriples"
  },
  {
   "cell_type": "code",
   "execution_count": 51,
   "metadata": {},
   "outputs": [
    {
     "data": {},
     "execution_count": 51,
     "metadata": {},
     "output_type": "execute_result"
    }
   ],
   "source": "len(freqTriples)"
  },
  {
   "cell_type": "markdown",
   "metadata": {},
   "source": "## Now, confidence scores for 2 items: X->Y and Y->X"
  },
  {
   "cell_type": "code",
   "execution_count": 40,
   "metadata": {},
   "outputs": [
    {
     "data": {},
     "execution_count": 40,
     "metadata": {},
     "output_type": "execute_result"
    }
   ],
   "source": "pairScores = {}\nfor pair in freqPairs:\n    X = pair[0]\n    Y = pair[1]\n    \n    xCount = 0\n    yCount = 0\n    union = 0\n    \n    # Get X, Y, and union counts\n    for line in list:\n        if X in line:\n            xCount = xCount + 1\n        if Y in line:\n            yCount = yCount + 1\n        if X in line and Y in line:\n            union = union + 1\n            \n    # calculate X->Y and Y->X\n    pairScores[X,Y] = union / xCount\n    pairScores[Y,X] = union / yCount\n    \npairScores\n        "
  },
  {
   "cell_type": "code",
   "execution_count": 41,
   "metadata": {},
   "outputs": [
    {
     "data": {},
     "execution_count": 41,
     "metadata": {},
     "output_type": "execute_result"
    }
   ],
   "source": "sortedPairs = sorted(pairScores.items(), key = lambda kv:(kv[1], kv[0]))\nsortedPairs"
  },
  {
   "cell_type": "code",
   "execution_count": 42,
   "metadata": {},
   "outputs": [],
   "source": "sortedPairs.reverse()"
  },
  {
   "cell_type": "code",
   "execution_count": 43,
   "metadata": {},
   "outputs": [
    {
     "data": {},
     "execution_count": 43,
     "metadata": {},
     "output_type": "execute_result"
    }
   ],
   "source": "sortedPairs"
  },
  {
   "cell_type": "markdown",
   "metadata": {},
   "source": "## Triple scores: X,Y->Z; X,Z->Y; Y,Z->X"
  },
  {
   "cell_type": "code",
   "execution_count": 55,
   "metadata": {},
   "outputs": [
    {
     "data": {},
     "execution_count": 55,
     "metadata": {},
     "output_type": "execute_result"
    }
   ],
   "source": "tripleScores = {}\nfor triple in freqTriples:\n    X = triple[0]\n    Y = triple[1]\n    Z = triple[2]\n    \n    xCount = 0\n    yCount = 0\n    zCount = 0\n    xy = 0\n    xz = 0\n    yz = 0\n    xyz = 0\n    \n    # Get X, Y, and union counts\n    for line in list:\n        if X in line:\n            xCount = xCount + 1\n        if Y in line:\n            yCount = yCount + 1\n        if Z in line:\n            zCount = zCount + 1\n        if X in line and Y in line:\n            xy = xy + 1\n        if X in line and Z in line:\n            xz = xz + 1\n        if Y in line and Z in line:\n            yz = yz + 1\n        if X in line and Y in line and Z in line:\n            xyz = xyz + 1\n            \n    # calculate X->Y and Y->X\n    tripleScores[X,Y,Z] = xyz / xy\n    tripleScores[X,Z,Y] = xyz / xz\n    tripleScores[Y,Z,X] = xyz / yz\n    \ntripleScores"
  },
  {
   "cell_type": "code",
   "execution_count": 56,
   "metadata": {},
   "outputs": [
    {
     "data": {},
     "execution_count": 56,
     "metadata": {},
     "output_type": "execute_result"
    }
   ],
   "source": "sortedTriples = sorted(tripleScores.items(), key = lambda kv:(kv[1], kv[0]))\nsortedTriples.reverse()\nsortedTriples"
  },
  {
   "cell_type": "code",
   "execution_count": 46,
   "metadata": {},
   "outputs": [
    {
     "data": {},
     "execution_count": 46,
     "metadata": {},
     "output_type": "execute_result"
    }
   ],
   "source": "sortedPairs[0:5]"
  },
  {
   "cell_type": "code",
   "execution_count": 57,
   "metadata": {},
   "outputs": [
    {
     "data": {},
     "execution_count": 57,
     "metadata": {},
     "output_type": "execute_result"
    }
   ],
   "source": "sortedTriples[0:5]"
  }
 ],
 "metadata": {
  "kernelspec": {
   "display_name": "Python 3",
   "language": "python",
   "name": "python3"
  },
  "language_info": {
   "codemirror_mode": {
    "name": "ipython",
    "version": 3
   },
   "file_extension": ".py",
   "mimetype": "text/x-python",
   "name": "python",
   "nbconvert_exporter": "python",
   "pygments_lexer": "ipython3",
   "version": "3.7.0"
  }
 },
 "nbformat": 4,
 "nbformat_minor": 4
}
