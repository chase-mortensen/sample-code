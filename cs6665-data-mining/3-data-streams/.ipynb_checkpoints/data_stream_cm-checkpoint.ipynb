{
 "cells": [
  {
   "cell_type": "code",
   "execution_count": null,
   "metadata": {},
   "outputs": [],
   "source": [
    "import numpy as np\n",
    "from math import exp\n",
    "from collections import defaultdict\n",
    "import matplotlib.pyplot as plt"
   ]
  },
  {
   "cell_type": "code",
   "execution_count": null,
   "metadata": {},
   "outputs": [],
   "source": [
    "p = 123457\n",
    "delta = exp(-5)\n",
    "epsilon = exp(10**(-4))\n",
    "n_buckets = 10**4\n",
    "hash_params = [list(map(int, line.strip().split('\\t'))) for line in open('hash_params.txt')]\n",
    "n_hashes = len(hash_params)"
   ]
  },
  {
   "cell_type": "markdown",
   "metadata": {},
   "source": [
    "## Main algorithm"
   ]
  },
  {
   "cell_type": "code",
   "execution_count": null,
   "metadata": {},
   "outputs": [],
   "source": [
    "# your code here\n",
    "buckets =                       # init bucket"
   ]
  },
  {
   "cell_type": "code",
   "execution_count": null,
   "metadata": {},
   "outputs": [],
   "source": [
    "# your code here\n",
    "# hash function"
   ]
  },
  {
   "cell_type": "markdown",
   "metadata": {},
   "source": [
    "## Compare the exact and approximate counts"
   ]
  },
  {
   "cell_type": "code",
   "execution_count": null,
   "metadata": {},
   "outputs": [],
   "source": [
    "# read the exact counts\n",
    "exact_counts = defaultdict(int)\n",
    "with open('counts.txt') as f:\n",
    "    for line in f:\n",
    "        key, value = line.strip().split('\\t')\n",
    "        exact_counts[int(key)] = int(value)"
   ]
  },
  {
   "cell_type": "code",
   "execution_count": null,
   "metadata": {},
   "outputs": [],
   "source": [
    "# to do\n",
    "# get approximate count of each sample\n",
    "approx_counts = defaultdict(int)\n",
    "# your code here"
   ]
  },
  {
   "cell_type": "markdown",
   "metadata": {},
   "source": [
    "    \"\"\"\n",
    "    Log-log plot of the relative error as a function of the frequency\n",
    "    \"\"\""
   ]
  },
  {
   "cell_type": "code",
   "execution_count": null,
   "metadata": {},
   "outputs": [],
   "source": [
    "def plot_error_hist(exact_freq,error,n_hashes,n_buckets):    \n",
    "    plt.hist(np.log10(error),np.sqrt(len(error)),'b.')\n",
    "    plt.title('n_hashes = ' + str(n_hashes) + ', n_buckets = 3*10^' + str(n_buckets))\n",
    "\n",
    "def plot_error_evol(exact_freq,error,n_hashes,n_buckets):\n",
    "    plt.plot(exact_freq,error,'b.')\n",
    "    plt.xscale('log')\n",
    "    plt.yscale('log')\n",
    "    plt.title('n_hashes = ' + str(n_hashes) + ', n_buckets = 10^' + str(n_buckets))\n",
    "    plt.xlabel('word frequency')\n",
    "    plt.ylabel('Relative error between estimated and actual frequencies')\n",
    "\n",
    "\n",
    "total_counts = sum(exact_counts.values())\n",
    "exact_freq = [exact_counts[k]*1./total_counts for k in exact_counts.keys()]\n",
    "idx_subplot = 0 # in case one wants to make subplots\n",
    "subplots_idx = [1,2,3,0] # same use case\n",
    "for n_hash in [5]:\n",
    "    for n_buckets in [4]:        \n",
    "        errors = [abs(exact_counts[k] - approx_counts[k])*1./exact_counts[k] for k in exact_counts.keys() ]\n",
    "        plot_error_evol(exact_freq,errors,n_hash,n_buckets)\n",
    "        idx_subplot += 1\n",
    "\n",
    "plt.show()"
   ]
  },
  {
   "cell_type": "code",
   "execution_count": null,
   "metadata": {},
   "outputs": [],
   "source": [
    "# print the approximate  and  exact  counts  of  the  top  10  most and least frequent  IDs.\n",
    "# your code here"
   ]
  }
 ],
 "metadata": {
  "kernelspec": {
   "display_name": "Python 3",
   "language": "python",
   "name": "python3"
  },
  "language_info": {
   "codemirror_mode": {
    "name": "ipython",
    "version": 3
   },
   "file_extension": ".py",
   "mimetype": "text/x-python",
   "name": "python",
   "nbconvert_exporter": "python",
   "pygments_lexer": "ipython3",
   "version": "3.8.1"
  }
 },
 "nbformat": 4,
 "nbformat_minor": 2
}
